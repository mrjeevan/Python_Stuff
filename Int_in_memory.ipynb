{
 "cells": [
  {
   "cell_type": "code",
   "execution_count": 9,
   "metadata": {},
   "outputs": [],
   "source": [
    "\n",
    "def ConBin(n):\n",
    "    return bin(n)\n"
   ]
  },
  {
   "cell_type": "code",
   "execution_count": 96,
   "metadata": {},
   "outputs": [],
   "source": [
    "def inmemory(org_b):\n",
    "    b = org_b\n",
    "    global l\n",
    "    l = [[0,0,0,0,0,0,0,0],[0,0,0,0,0,0,0,0],[0,0,0,0,0,0,0,0],[0,0,0,0,0,0,0,0],]\n",
    "    if b[0] != '-':\n",
    "        b = b[2:]\n",
    "        print(f'+ve so Sign_bit is not added binary_no is: {b}')\n",
    "        #print(f'debug:sign_bit + :{l}')\n",
    "        \n",
    "    else:\n",
    "        l[0][0] = 1\n",
    "        b = b[3:]\n",
    "        print(f'\\n-ve so Sign_bit_added now binary_no is: {b}')\n",
    "        #print(f'debug:sign_bit - :{l}')\n",
    "        \n",
    "    length = len(b)-1\n",
    "    \n",
    "    for i in range(1,5):\n",
    "        for j in range(1,9):\n",
    "            \n",
    "            if length+1:\n",
    "                #print(f'debug:loop_check:{i},{j}')\n",
    "                if (4-i)*(8-j) <= 0:\n",
    "                    print(f'warning : over_flow')\n",
    "                l[4-i][8-j] = int(b[length])\n",
    "                length -= 1\n",
    "                #print(f'debug :loop_check: {l}')\n",
    "            else:\n",
    "                break\n",
    "    \n",
    "    print(f'\\nin_memory {org_b} is represented as \\n {l}')"
   ]
  },
  {
   "cell_type": "code",
   "execution_count": 98,
   "metadata": {},
   "outputs": [
    {
     "name": "stdout",
     "output_type": "stream",
     "text": [
      "enter a number : 2147483647\n",
      "0b1111111111111111111111111111111\n",
      "+ve so Sign_bit is not added binary_no is: 1111111111111111111111111111111\n",
      "warning : over_flow\n",
      "warning : over_flow\n",
      "warning : over_flow\n",
      "warning : over_flow\n",
      "warning : over_flow\n",
      "warning : over_flow\n",
      "warning : over_flow\n",
      "warning : over_flow\n",
      "warning : over_flow\n",
      "warning : over_flow\n",
      "\n",
      "in_memory 0b1111111111111111111111111111111 is represented as \n",
      " [[0, 1, 1, 1, 1, 1, 1, 1], [1, 1, 1, 1, 1, 1, 1, 1], [1, 1, 1, 1, 1, 1, 1, 1], [1, 1, 1, 1, 1, 1, 1, 1]]\n"
     ]
    }
   ],
   "source": [
    "n = int(input('enter a number : '))\n",
    "binary = ConBin(n)\n",
    "print(binary)\n",
    "inmemory(binary)"
   ]
  },
  {
   "cell_type": "code",
   "execution_count": null,
   "metadata": {},
   "outputs": [],
   "source": [
    "# check_for\n",
    "# 2147483647 max +ve\n",
    "# -2147483648 max -ve"
   ]
  }
 ],
 "metadata": {
  "kernelspec": {
   "display_name": "Python 3",
   "language": "python",
   "name": "python3"
  },
  "language_info": {
   "codemirror_mode": {
    "name": "ipython",
    "version": 3
   },
   "file_extension": ".py",
   "mimetype": "text/x-python",
   "name": "python",
   "nbconvert_exporter": "python",
   "pygments_lexer": "ipython3",
   "version": "3.7.6"
  }
 },
 "nbformat": 4,
 "nbformat_minor": 4
}
